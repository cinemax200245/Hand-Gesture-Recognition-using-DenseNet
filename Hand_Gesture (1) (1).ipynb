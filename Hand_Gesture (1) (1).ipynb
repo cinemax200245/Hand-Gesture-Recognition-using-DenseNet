{
 "cells": [
  {
   "cell_type": "markdown",
   "metadata": {},
   "source": [
    "<div style=\"background-color: #f0f0f0; padding: 10px; text-align: center;\">\n",
    "    <h1 style=\"font-size: 24px;\">Hand Gesture Recognition</h1>\n",
    "    <h3 style=\"font-size: 18px;\">Using TensorFlow and DenseNet</h3>\n",
    "</div>\n"
   ]
  },
  {
   "cell_type": "code",
   "execution_count": 1,
   "metadata": {
    "colab": {
     "base_uri": "https://localhost:8080/"
    },
    "id": "XBAhxsMnMWRK",
    "outputId": "acaa00b5-c9e7-42f6-80fc-4842ca91d8cc"
   },
   "outputs": [
    {
     "name": "stdout",
     "output_type": "stream",
     "text": [
      "Requirement already satisfied: kaggle in /usr/local/lib/python3.10/dist-packages (1.5.16)\n",
      "Requirement already satisfied: six>=1.10 in /usr/local/lib/python3.10/dist-packages (from kaggle) (1.16.0)\n",
      "Requirement already satisfied: certifi in /usr/local/lib/python3.10/dist-packages (from kaggle) (2023.7.22)\n",
      "Requirement already satisfied: python-dateutil in /usr/local/lib/python3.10/dist-packages (from kaggle) (2.8.2)\n",
      "Requirement already satisfied: requests in /usr/local/lib/python3.10/dist-packages (from kaggle) (2.27.1)\n",
      "Requirement already satisfied: tqdm in /usr/local/lib/python3.10/dist-packages (from kaggle) (4.65.0)\n",
      "Requirement already satisfied: python-slugify in /usr/local/lib/python3.10/dist-packages (from kaggle) (8.0.1)\n",
      "Requirement already satisfied: urllib3 in /usr/local/lib/python3.10/dist-packages (from kaggle) (1.26.16)\n",
      "Requirement already satisfied: bleach in /usr/local/lib/python3.10/dist-packages (from kaggle) (6.0.0)\n",
      "Requirement already satisfied: webencodings in /usr/local/lib/python3.10/dist-packages (from bleach->kaggle) (0.5.1)\n",
      "Requirement already satisfied: text-unidecode>=1.3 in /usr/local/lib/python3.10/dist-packages (from python-slugify->kaggle) (1.3)\n",
      "Requirement already satisfied: charset-normalizer~=2.0.0 in /usr/local/lib/python3.10/dist-packages (from requests->kaggle) (2.0.12)\n",
      "Requirement already satisfied: idna<4,>=2.5 in /usr/local/lib/python3.10/dist-packages (from requests->kaggle) (3.4)\n"
     ]
    }
   ],
   "source": [
    "!pip install kaggle"
   ]
  },
  {
   "cell_type": "code",
   "execution_count": 2,
   "metadata": {
    "id": "f1Su_yJGLe27"
   },
   "outputs": [],
   "source": [
    "#configuring the path of kaggle file .json type\n",
    "!mkdir -p ~/.kaggle\n",
    "!cp kaggle.json ~/.kaggle/\n",
    "!chmod 600 ~/.kaggle/kaggle.json"
   ]
  },
  {
   "cell_type": "markdown",
   "metadata": {
    "id": "Z5OsLxuPULBU"
   },
   "source": [
    " **Generating API key**"
   ]
  },
  {
   "cell_type": "code",
   "execution_count": 3,
   "metadata": {
    "colab": {
     "base_uri": "https://localhost:8080/"
    },
    "id": "ab372_cZLrHJ",
    "outputId": "55ceb4c3-dade-405d-e39b-80fece70997a"
   },
   "outputs": [
    {
     "name": "stdout",
     "output_type": "stream",
     "text": [
      "Downloading hand-gesture-recognition.zip to /content\n",
      " 52% 14.0M/27.1M [00:00<00:00, 60.6MB/s]\n",
      "100% 27.1M/27.1M [00:00<00:00, 86.5MB/s]\n"
     ]
    }
   ],
   "source": [
    "# using API to fetch dataset from Kaggle\n",
    "!kaggle datasets download -d roobansappani/hand-gesture-recognition"
   ]
  },
  {
   "cell_type": "markdown",
   "metadata": {
    "id": "kI6FxIiPUQGy"
   },
   "source": [
    "**Importing Hand Gesture database**"
   ]
  },
  {
   "cell_type": "code",
   "execution_count": 4,
   "metadata": {
    "colab": {
     "base_uri": "https://localhost:8080/"
    },
    "id": "QA6fmHY_MNZc",
    "outputId": "a2bd237c-b6cd-443a-fefc-f141bf8fe023"
   },
   "outputs": [
    {
     "name": "stdout",
     "output_type": "stream",
     "text": [
      "The dataset is extracted\n"
     ]
    }
   ],
   "source": [
    "# extracting the dataset from its compressed format\n",
    "from zipfile import ZipFile\n",
    "dataset='/content/hand-gesture-recognition.zip'\n",
    "\n",
    "with ZipFile(dataset,'r') as zip:\n",
    "  zip.extractall()\n",
    "  print(\"The dataset is extracted\")"
   ]
  },
  {
   "cell_type": "markdown",
   "metadata": {
    "id": "AbXgFZxhUaFU"
   },
   "source": [
    "**Importing Libraries**"
   ]
  },
  {
   "cell_type": "code",
   "execution_count": null,
   "metadata": {
    "id": "rvKt5pAFMWhK"
   },
   "outputs": [],
   "source": [
    "import os\n",
    "import numpy as np\n",
    "import matplotlib.pyplot as plt\n",
    "import matplotlib.image as mpimg\n",
    "import pandas as pd\n",
    "import cv2\n",
    "from google.colab.patches import cv2_imshow\n",
    "from PIL import Image\n",
    "from sklearn.model_selection import train_test_split\n",
    "import warnings\n",
    "warnings.filterwarnings(action='ignore')"
   ]
  },
  {
   "cell_type": "markdown",
   "metadata": {
    "id": "2OYrjsk6v3R4"
   },
   "source": [
    "<div style=\"background-color: #f0f0f0; padding: 10px; text-align: center;\">\n",
    "    <h1 style=\"font-size: 24px;\">Code Starts Here</h1>\n",
    "</div>\n"
   ]
  },
  {
   "cell_type": "code",
   "execution_count": 6,
   "metadata": {
    "id": "Phyb74_qQWtH"
   },
   "outputs": [],
   "source": [
    "import numpy as np\n",
    "import pandas as pd\n",
    "import os\n",
    "import matplotlib.pyplot as plt\n",
    "\n",
    "import tensorflow as tf\n",
    "from tensorflow import keras\n",
    "from tensorflow.keras.utils import to_categorical\n",
    "from tensorflow.keras.preprocessing.image import load_img, img_to_array\n",
    "from tensorflow.keras.preprocessing.image import ImageDataGenerator\n",
    "\n",
    "from sklearn.metrics import classification_report, log_loss, accuracy_score\n",
    "from sklearn.model_selection import train_test_split"
   ]
  },
  {
   "cell_type": "code",
   "execution_count": 9,
   "metadata": {
    "id": "5hcenqfnVndI"
   },
   "outputs": [],
   "source": [
    "directory = '/content/HandGesture/images'"
   ]
  },
  {
   "cell_type": "code",
   "execution_count": 10,
   "metadata": {
    "colab": {
     "base_uri": "https://localhost:8080/"
    },
    "id": "ccZo0fgNVq3Y",
    "outputId": "2b51fec1-3c9c-4477-9748-b71c156b5cfc"
   },
   "outputs": [
    {
     "name": "stdout",
     "output_type": "stream",
     "text": [
      "['up', 'scissor', 'paper', 'thumbs', 'peace', 'okay', 'rock', 'call_me', 'rock_on', 'fingers_crossed']\n",
      "10\n"
     ]
    }
   ],
   "source": [
    "Name=[]\n",
    "for file in os.listdir(directory):\n",
    "    if file[-4:]!='pt.m' and file[-4:]!='.txt':\n",
    "        Name+=[file]\n",
    "print(Name)\n",
    "print(len(Name))"
   ]
  },
  {
   "cell_type": "code",
   "execution_count": 12,
   "metadata": {
    "id": "ZCMAK2SKV6gN"
   },
   "outputs": [],
   "source": [
    "# Given a list of names\n",
    "Name = [...]\n",
    "\n",
    "# Create a dictionary where names are keys and numerical indices are values\n",
    "normal_mapping = {name: index for index, name in enumerate(Name)}\n",
    "\n",
    "# Create a function that takes a numerical index and returns the corresponding name\n",
    "def mapper(value):\n",
    "    return Name[value]"
   ]
  },
  {
   "cell_type": "code",
   "execution_count": 13,
   "metadata": {
    "colab": {
     "base_uri": "https://localhost:8080/"
    },
    "id": "eyx3oxY2WX0m",
    "outputId": "06d920d2-598a-485c-f4ba-5a0e59fa1987"
   },
   "outputs": [
    {
     "name": "stdout",
     "output_type": "stream",
     "text": [
      "up\n",
      "scissor\n",
      "paper\n",
      "thumbs\n",
      "peace\n",
      "okay\n",
      "rock\n",
      "call_me\n",
      "rock_on\n",
      "fingers_crossed\n"
     ]
    }
   ],
   "source": [
    "File=[]\n",
    "for file in os.listdir(directory):\n",
    "    File+=[file]\n",
    "    print(file)"
   ]
  },
  {
   "cell_type": "markdown",
   "metadata": {
    "id": "Gq4uzjQ-W1L1"
   },
   "source": [
    "This code takes a collection of image files organized in folders by category. It reads these images, resizes them, normalizes their pixel values, and separates them into a training dataset (dataset) and a test dataset (testset) based on the number of images processed (t). The category information is stored as count, and it increases as the code moves to process images from the next category. This prepares the data for a machine learning task where images and their corresponding categories are used to train and test a model."
   ]
  },
  {
   "cell_type": "code",
   "execution_count": 14,
   "metadata": {
    "id": "KlwmMaX8Wdzh"
   },
   "outputs": [],
   "source": [
    "dataset=[]\n",
    "testset=[]\n",
    "count=0\n",
    "for file in File:\n",
    "    path=os.path.join(directory,file)\n",
    "    t=0\n",
    "    for im in os.listdir(path):\n",
    "        if im[-4:]!='pt.m' and im[-4:]!='.txt':\n",
    "            image=load_img(os.path.join(path,im), grayscale=False, color_mode='rgb', target_size=(60,60))\n",
    "            image=img_to_array(image)\n",
    "            image=image/255.0\n",
    "            if t<400:\n",
    "                dataset.append([image,count])\n",
    "            else:\n",
    "                testset.append([image,count])\n",
    "            t+=1\n",
    "    count=count+1"
   ]
  },
  {
   "cell_type": "code",
   "execution_count": 17,
   "metadata": {
    "id": "7_5QCK0bXLCK"
   },
   "outputs": [],
   "source": [
    "data = []\n",
    "labels0 = []\n",
    "\n",
    "for item in dataset:\n",
    "    image, label = item\n",
    "    data.append(image)\n",
    "    labels0.append(label)\n",
    "\n",
    "test = []\n",
    "tlabels0 = []\n",
    "\n",
    "for item in testset:\n",
    "    image, label = item\n",
    "    test.append(image)\n",
    "    tlabels0.append(label)"
   ]
  },
  {
   "cell_type": "code",
   "execution_count": 18,
   "metadata": {
    "id": "iOoS8KdPYFdL"
   },
   "outputs": [],
   "source": [
    "labels1=to_categorical(labels0)\n",
    "data=np.array(data)\n",
    "labels=np.array(labels1)\n",
    "tlabels1=to_categorical(tlabels0)\n",
    "test=np.array(test)\n",
    "tlabels=np.array(tlabels1)"
   ]
  },
  {
   "cell_type": "code",
   "execution_count": 20,
   "metadata": {
    "id": "ugMfsNd5YN1U"
   },
   "outputs": [],
   "source": [
    "trainx,testx,trainy,testy=train_test_split(data,labels,test_size=0.2,random_state=44)"
   ]
  },
  {
   "cell_type": "code",
   "execution_count": 21,
   "metadata": {
    "colab": {
     "base_uri": "https://localhost:8080/"
    },
    "id": "R43odU74YWp6",
    "outputId": "a84741e4-3b11-45f3-e915-46190b5716ad"
   },
   "outputs": [
    {
     "name": "stdout",
     "output_type": "stream",
     "text": [
      "(3200, 60, 60, 3)\n",
      "(800, 60, 60, 3)\n",
      "(3200, 10)\n",
      "(800, 10)\n"
     ]
    }
   ],
   "source": [
    "print(trainx.shape)\n",
    "print(testx.shape)\n",
    "print(trainy.shape)\n",
    "print(testy.shape)"
   ]
  },
  {
   "cell_type": "markdown",
   "metadata": {
    "id": "BuhHCjbsquL0"
   },
   "source": [
    "`ImageDataGenerator`: This tool helps make different versions of pictures.\n",
    "\n",
    "`horizontal_flip=True`: Flips pictures like a mirror, making things look different.\n",
    "\n",
    "`vertical_flip=True`: Flips pictures upside down for more variety.\n",
    "\n",
    "`rotation_range=20`: Twists pictures a bit, like turning a piece of paper.\n",
    "\n",
    "`zoom_range=0.2`: Makes some parts of the picture look bigger or smaller, like a magnifying glass.\n",
    "\n",
    "`width_shift_range=0.2`: Slides the picture a bit left or right.\n",
    "\n",
    "`height_shift_range=0.2`: Slides the picture a bit up or down.\n",
    "\n",
    "`shear_range=0.1`: Tilts the picture a bit, like a sliding door.\n",
    "\n",
    "`fill_mode=\"nearest\"`: Fills blank spaces with the nearest color after changing the picture."
   ]
  },
  {
   "cell_type": "code",
   "execution_count": 22,
   "metadata": {
    "id": "Qjlzn_z1YahY"
   },
   "outputs": [],
   "source": [
    "datagen = ImageDataGenerator(horizontal_flip=True,vertical_flip=True,rotation_range=20,zoom_range=0.2,\n",
    "                        width_shift_range=0.2,height_shift_range=0.2,shear_range=0.1,fill_mode=\"nearest\")"
   ]
  },
  {
   "cell_type": "markdown",
   "metadata": {
    "id": "okg6CvBAr598"
   },
   "source": [
    "This code sets up a powerful image analysis model (**DenseNet201**) that's already good at understanding images. By making it non-trainable, you can use it to extract meaningful features from your data without altering the original model's abilities. This is often useful when you want to build a new model on top of these features for a specific task.\n",
    "\n",
    "`pretrained_model3 = tf.keras.applications.DenseNet201(...):`\n",
    "tf.keras.applications.DenseNet201 is a function provided by TensorFlow that loads a pre-trained DenseNet-201 model. DenseNet is a type of deep neural network architecture commonly used for tasks like image classification.\n",
    "\n",
    "`input_shape=(60, 60, 3)` specifies that the input images should have a size of 60x60 pixels and 3 color channels (R, G, B).\n",
    "\n",
    "include_top=False means that the final fully connected layers (often used for classification) won't be included in the loaded model. This is useful when you want to use the pre-trained model as a feature extractor.\n",
    "\n",
    "`weights='imagenet'` specifies that the model's initial weights should be loaded from a set of weights pre-trained on the ImageNet dataset. This helps the model start with useful features learned from a large dataset.\n",
    "\n",
    "`pooling='avg'` indicates that the global average pooling operation will be applied to the output of the loaded model. This operation helps reduce the spatial dimensions of the feature maps while retaining important information."
   ]
  },
  {
   "cell_type": "code",
   "execution_count": 23,
   "metadata": {
    "colab": {
     "base_uri": "https://localhost:8080/"
    },
    "id": "q6qJSYj_YcWq",
    "outputId": "3f5aacac-755a-4fa7-d41a-29a363eaf86e"
   },
   "outputs": [
    {
     "name": "stdout",
     "output_type": "stream",
     "text": [
      "Downloading data from https://storage.googleapis.com/tensorflow/keras-applications/densenet/densenet201_weights_tf_dim_ordering_tf_kernels_notop.h5\n",
      "74836368/74836368 [==============================] - 0s 0us/step\n"
     ]
    }
   ],
   "source": [
    "pretrained_model3 = tf.keras.applications.DenseNet201(input_shape=(60,60,3),include_top=False,weights='imagenet',pooling='avg')\n",
    "pretrained_model3.trainable = False"
   ]
  },
  {
   "cell_type": "code",
   "execution_count": 26,
   "metadata": {
    "id": "YogoJUmWYlpG"
   },
   "outputs": [],
   "source": [
    "import tensorflow as tf\n",
    "\n",
    "# Get the input layer of the pretrained model\n",
    "inputs3 = pretrained_model3.input\n",
    "\n",
    "# Add a Dense layer with 128 units and ReLU activation\n",
    "x3 = tf.keras.layers.Dense(128, activation='relu')(pretrained_model3.output)\n",
    "\n",
    "# Add another Dense layer with 64 units and ReLU activation\n",
    "x3 = tf.keras.layers.Dense(64, activation='relu')(x3)\n",
    "\n",
    "# Add a Dropout layer to prevent overfitting\n",
    "x3 = tf.keras.layers.Dropout(0.5)(x3)\n",
    "\n",
    "# Add the final Dense layer for classification with softmax activation\n",
    "outputs3 = tf.keras.layers.Dense(10, activation='softmax')(x3)\n",
    "\n",
    "# Create the new model\n",
    "model = tf.keras.Model(inputs=inputs3, outputs=outputs3)"
   ]
  },
  {
   "cell_type": "code",
   "execution_count": 28,
   "metadata": {
    "colab": {
     "base_uri": "https://localhost:8080/"
    },
    "id": "4uSjgYkdYo1T",
    "outputId": "f9a2a087-808e-4938-9c1c-437eb0c31021"
   },
   "outputs": [
    {
     "name": "stdout",
     "output_type": "stream",
     "text": [
      "Epoch 1/200\n",
      "100/100 [==============================] - 23s 94ms/step - loss: 0.6940 - accuracy: 0.7706 - val_loss: 0.2865 - val_accuracy: 0.9137\n",
      "Epoch 2/200\n",
      "100/100 [==============================] - 7s 69ms/step - loss: 0.6602 - accuracy: 0.7844 - val_loss: 0.3150 - val_accuracy: 0.9000\n",
      "Epoch 3/200\n",
      "100/100 [==============================] - 7s 66ms/step - loss: 0.6817 - accuracy: 0.7734 - val_loss: 0.2876 - val_accuracy: 0.9187\n",
      "Epoch 4/200\n",
      "100/100 [==============================] - 6s 55ms/step - loss: 0.6654 - accuracy: 0.7809 - val_loss: 0.2649 - val_accuracy: 0.9225\n",
      "Epoch 5/200\n",
      "100/100 [==============================] - 6s 60ms/step - loss: 0.6583 - accuracy: 0.7788 - val_loss: 0.2717 - val_accuracy: 0.9200\n",
      "Epoch 6/200\n",
      "100/100 [==============================] - 6s 57ms/step - loss: 0.6514 - accuracy: 0.7791 - val_loss: 0.2825 - val_accuracy: 0.9150\n",
      "Epoch 7/200\n",
      "100/100 [==============================] - 6s 56ms/step - loss: 0.6606 - accuracy: 0.7803 - val_loss: 0.3626 - val_accuracy: 0.8863\n",
      "Epoch 8/200\n",
      "100/100 [==============================] - 7s 75ms/step - loss: 0.6525 - accuracy: 0.7866 - val_loss: 0.3137 - val_accuracy: 0.9075\n",
      "Epoch 9/200\n",
      "100/100 [==============================] - 6s 55ms/step - loss: 0.6219 - accuracy: 0.7906 - val_loss: 0.2845 - val_accuracy: 0.9150\n",
      "Epoch 10/200\n",
      "100/100 [==============================] - 7s 68ms/step - loss: 0.6793 - accuracy: 0.7869 - val_loss: 0.3150 - val_accuracy: 0.8963\n",
      "Epoch 11/200\n",
      "100/100 [==============================] - 6s 56ms/step - loss: 0.6313 - accuracy: 0.7878 - val_loss: 0.3361 - val_accuracy: 0.8888\n",
      "Epoch 12/200\n",
      "100/100 [==============================] - 7s 66ms/step - loss: 0.6600 - accuracy: 0.7906 - val_loss: 0.3373 - val_accuracy: 0.8875\n",
      "Epoch 13/200\n",
      "100/100 [==============================] - 6s 57ms/step - loss: 0.6332 - accuracy: 0.7862 - val_loss: 0.2727 - val_accuracy: 0.9175\n",
      "Epoch 14/200\n",
      "100/100 [==============================] - 7s 67ms/step - loss: 0.6406 - accuracy: 0.7828 - val_loss: 0.2424 - val_accuracy: 0.9175\n",
      "Epoch 15/200\n",
      "100/100 [==============================] - 6s 56ms/step - loss: 0.6310 - accuracy: 0.7950 - val_loss: 0.2575 - val_accuracy: 0.9087\n",
      "Epoch 16/200\n",
      "100/100 [==============================] - 7s 68ms/step - loss: 0.6180 - accuracy: 0.7922 - val_loss: 0.2672 - val_accuracy: 0.9038\n",
      "Epoch 17/200\n",
      "100/100 [==============================] - 6s 55ms/step - loss: 0.6222 - accuracy: 0.7916 - val_loss: 0.2648 - val_accuracy: 0.9137\n",
      "Epoch 18/200\n",
      "100/100 [==============================] - 7s 66ms/step - loss: 0.6161 - accuracy: 0.7903 - val_loss: 0.2540 - val_accuracy: 0.9200\n",
      "Epoch 19/200\n",
      "100/100 [==============================] - 6s 58ms/step - loss: 0.6508 - accuracy: 0.7887 - val_loss: 0.2926 - val_accuracy: 0.9025\n",
      "Epoch 20/200\n",
      "100/100 [==============================] - 7s 66ms/step - loss: 0.6235 - accuracy: 0.7909 - val_loss: 0.3028 - val_accuracy: 0.8875\n",
      "Epoch 21/200\n",
      "100/100 [==============================] - 7s 68ms/step - loss: 0.6317 - accuracy: 0.8047 - val_loss: 0.2724 - val_accuracy: 0.9150\n",
      "Epoch 22/200\n",
      "100/100 [==============================] - 5s 55ms/step - loss: 0.6284 - accuracy: 0.8028 - val_loss: 0.2580 - val_accuracy: 0.9125\n",
      "Epoch 23/200\n",
      "100/100 [==============================] - 6s 62ms/step - loss: 0.6194 - accuracy: 0.7909 - val_loss: 0.2581 - val_accuracy: 0.9262\n",
      "Epoch 24/200\n",
      "100/100 [==============================] - 6s 57ms/step - loss: 0.5899 - accuracy: 0.7956 - val_loss: 0.2461 - val_accuracy: 0.9200\n",
      "Epoch 25/200\n",
      "100/100 [==============================] - 6s 57ms/step - loss: 0.6010 - accuracy: 0.8016 - val_loss: 0.2544 - val_accuracy: 0.9137\n",
      "Epoch 26/200\n",
      "100/100 [==============================] - 7s 66ms/step - loss: 0.6192 - accuracy: 0.7987 - val_loss: 0.2777 - val_accuracy: 0.9112\n",
      "Epoch 27/200\n",
      "100/100 [==============================] - 6s 57ms/step - loss: 0.5947 - accuracy: 0.8028 - val_loss: 0.2926 - val_accuracy: 0.9100\n",
      "Epoch 28/200\n",
      "100/100 [==============================] - 7s 67ms/step - loss: 0.6139 - accuracy: 0.8009 - val_loss: 0.3288 - val_accuracy: 0.8863\n",
      "Epoch 29/200\n",
      "100/100 [==============================] - 6s 56ms/step - loss: 0.6030 - accuracy: 0.7975 - val_loss: 0.2352 - val_accuracy: 0.9300\n",
      "Epoch 30/200\n",
      "100/100 [==============================] - 7s 67ms/step - loss: 0.5840 - accuracy: 0.8034 - val_loss: 0.2835 - val_accuracy: 0.9187\n",
      "Epoch 31/200\n",
      "100/100 [==============================] - 5s 54ms/step - loss: 0.5721 - accuracy: 0.8159 - val_loss: 0.2692 - val_accuracy: 0.9087\n",
      "Epoch 32/200\n",
      "100/100 [==============================] - 7s 68ms/step - loss: 0.6160 - accuracy: 0.8022 - val_loss: 0.2868 - val_accuracy: 0.9050\n",
      "Epoch 33/200\n",
      "100/100 [==============================] - 6s 56ms/step - loss: 0.6328 - accuracy: 0.8009 - val_loss: 0.2759 - val_accuracy: 0.9150\n",
      "Epoch 34/200\n",
      "100/100 [==============================] - 7s 65ms/step - loss: 0.6004 - accuracy: 0.7994 - val_loss: 0.2641 - val_accuracy: 0.9187\n",
      "Epoch 35/200\n",
      "100/100 [==============================] - 6s 55ms/step - loss: 0.5963 - accuracy: 0.8100 - val_loss: 0.2747 - val_accuracy: 0.9075\n",
      "Epoch 36/200\n",
      "100/100 [==============================] - 7s 65ms/step - loss: 0.6074 - accuracy: 0.8044 - val_loss: 0.2552 - val_accuracy: 0.9150\n",
      "Epoch 37/200\n",
      "100/100 [==============================] - 6s 60ms/step - loss: 0.5806 - accuracy: 0.8100 - val_loss: 0.2605 - val_accuracy: 0.9200\n",
      "Epoch 38/200\n",
      "100/100 [==============================] - 6s 57ms/step - loss: 0.5819 - accuracy: 0.8128 - val_loss: 0.3290 - val_accuracy: 0.9038\n",
      "Epoch 39/200\n",
      "100/100 [==============================] - 7s 66ms/step - loss: 0.5499 - accuracy: 0.8219 - val_loss: 0.2864 - val_accuracy: 0.9013\n",
      "Epoch 40/200\n",
      "100/100 [==============================] - 6s 56ms/step - loss: 0.5796 - accuracy: 0.8125 - val_loss: 0.3060 - val_accuracy: 0.9038\n",
      "Epoch 41/200\n",
      "100/100 [==============================] - 7s 69ms/step - loss: 0.6044 - accuracy: 0.8034 - val_loss: 0.2832 - val_accuracy: 0.9025\n",
      "Epoch 42/200\n",
      "100/100 [==============================] - 6s 55ms/step - loss: 0.5809 - accuracy: 0.8106 - val_loss: 0.3047 - val_accuracy: 0.8913\n",
      "Epoch 43/200\n",
      "100/100 [==============================] - 7s 66ms/step - loss: 0.5575 - accuracy: 0.8219 - val_loss: 0.3083 - val_accuracy: 0.8863\n",
      "Epoch 44/200\n",
      "100/100 [==============================] - 6s 55ms/step - loss: 0.5994 - accuracy: 0.8069 - val_loss: 0.2364 - val_accuracy: 0.9162\n",
      "Epoch 45/200\n",
      "100/100 [==============================] - 7s 68ms/step - loss: 0.5678 - accuracy: 0.8125 - val_loss: 0.2714 - val_accuracy: 0.9013\n",
      "Epoch 46/200\n",
      "100/100 [==============================] - 6s 57ms/step - loss: 0.6133 - accuracy: 0.8062 - val_loss: 0.3365 - val_accuracy: 0.8825\n",
      "Epoch 47/200\n",
      "100/100 [==============================] - 7s 67ms/step - loss: 0.6004 - accuracy: 0.8075 - val_loss: 0.2728 - val_accuracy: 0.9075\n",
      "Epoch 48/200\n",
      "100/100 [==============================] - 6s 56ms/step - loss: 0.5443 - accuracy: 0.8222 - val_loss: 0.2741 - val_accuracy: 0.9125\n",
      "Epoch 49/200\n",
      "100/100 [==============================] - 6s 57ms/step - loss: 0.5697 - accuracy: 0.8169 - val_loss: 0.2683 - val_accuracy: 0.9125\n",
      "Epoch 50/200\n",
      "100/100 [==============================] - 7s 68ms/step - loss: 0.5766 - accuracy: 0.8106 - val_loss: 0.2570 - val_accuracy: 0.9187\n",
      "Epoch 51/200\n",
      "100/100 [==============================] - 6s 56ms/step - loss: 0.5805 - accuracy: 0.8141 - val_loss: 0.2619 - val_accuracy: 0.9225\n",
      "Epoch 52/200\n",
      "100/100 [==============================] - 7s 66ms/step - loss: 0.5806 - accuracy: 0.8112 - val_loss: 0.2375 - val_accuracy: 0.9212\n",
      "Epoch 53/200\n",
      "100/100 [==============================] - 6s 56ms/step - loss: 0.5630 - accuracy: 0.8084 - val_loss: 0.2285 - val_accuracy: 0.9250\n",
      "Epoch 54/200\n",
      "100/100 [==============================] - 7s 66ms/step - loss: 0.5717 - accuracy: 0.8094 - val_loss: 0.2324 - val_accuracy: 0.9212\n",
      "Epoch 55/200\n",
      "100/100 [==============================] - 6s 56ms/step - loss: 0.5859 - accuracy: 0.8075 - val_loss: 0.2867 - val_accuracy: 0.9075\n",
      "Epoch 56/200\n",
      "100/100 [==============================] - 7s 67ms/step - loss: 0.5884 - accuracy: 0.8119 - val_loss: 0.2472 - val_accuracy: 0.9087\n",
      "Epoch 57/200\n",
      "100/100 [==============================] - 6s 56ms/step - loss: 0.5490 - accuracy: 0.8244 - val_loss: 0.2341 - val_accuracy: 0.9087\n",
      "Epoch 58/200\n",
      "100/100 [==============================] - 7s 68ms/step - loss: 0.5728 - accuracy: 0.8059 - val_loss: 0.2650 - val_accuracy: 0.9137\n",
      "Epoch 59/200\n",
      "100/100 [==============================] - 6s 57ms/step - loss: 0.5482 - accuracy: 0.8122 - val_loss: 0.2257 - val_accuracy: 0.9262\n",
      "Epoch 60/200\n",
      "100/100 [==============================] - 7s 68ms/step - loss: 0.5760 - accuracy: 0.8128 - val_loss: 0.2300 - val_accuracy: 0.9312\n",
      "Epoch 61/200\n",
      "100/100 [==============================] - 6s 55ms/step - loss: 0.5878 - accuracy: 0.8156 - val_loss: 0.2725 - val_accuracy: 0.9075\n",
      "Epoch 62/200\n",
      "100/100 [==============================] - 7s 65ms/step - loss: 0.5931 - accuracy: 0.8084 - val_loss: 0.2485 - val_accuracy: 0.9200\n",
      "Epoch 63/200\n",
      "100/100 [==============================] - 6s 56ms/step - loss: 0.5381 - accuracy: 0.8250 - val_loss: 0.2788 - val_accuracy: 0.9075\n",
      "Epoch 64/200\n",
      "100/100 [==============================] - 7s 66ms/step - loss: 0.5470 - accuracy: 0.8234 - val_loss: 0.2758 - val_accuracy: 0.8950\n",
      "Epoch 65/200\n",
      "100/100 [==============================] - 6s 57ms/step - loss: 0.5548 - accuracy: 0.8184 - val_loss: 0.2462 - val_accuracy: 0.9175\n",
      "Epoch 66/200\n",
      "100/100 [==============================] - 6s 63ms/step - loss: 0.5304 - accuracy: 0.8253 - val_loss: 0.2497 - val_accuracy: 0.9150\n",
      "Epoch 67/200\n",
      "100/100 [==============================] - 6s 57ms/step - loss: 0.5646 - accuracy: 0.8197 - val_loss: 0.2581 - val_accuracy: 0.9112\n",
      "Epoch 68/200\n",
      "100/100 [==============================] - 6s 62ms/step - loss: 0.5238 - accuracy: 0.8325 - val_loss: 0.2162 - val_accuracy: 0.9275\n",
      "Epoch 69/200\n",
      "100/100 [==============================] - 6s 59ms/step - loss: 0.5239 - accuracy: 0.8231 - val_loss: 0.2273 - val_accuracy: 0.9237\n",
      "Epoch 70/200\n",
      "100/100 [==============================] - 6s 60ms/step - loss: 0.5288 - accuracy: 0.8225 - val_loss: 0.2165 - val_accuracy: 0.9237\n",
      "Epoch 71/200\n",
      "100/100 [==============================] - 6s 60ms/step - loss: 0.5199 - accuracy: 0.8325 - val_loss: 0.2254 - val_accuracy: 0.9312\n",
      "Epoch 72/200\n",
      "100/100 [==============================] - 6s 57ms/step - loss: 0.5375 - accuracy: 0.8281 - val_loss: 0.2521 - val_accuracy: 0.9187\n",
      "Epoch 73/200\n",
      "100/100 [==============================] - 6s 58ms/step - loss: 0.5214 - accuracy: 0.8334 - val_loss: 0.2499 - val_accuracy: 0.9275\n",
      "Epoch 74/200\n",
      "100/100 [==============================] - 7s 68ms/step - loss: 0.5038 - accuracy: 0.8363 - val_loss: 0.2224 - val_accuracy: 0.9275\n",
      "Epoch 75/200\n",
      "100/100 [==============================] - 6s 57ms/step - loss: 0.5444 - accuracy: 0.8275 - val_loss: 0.2919 - val_accuracy: 0.9087\n",
      "Epoch 76/200\n",
      "100/100 [==============================] - 6s 56ms/step - loss: 0.5551 - accuracy: 0.8156 - val_loss: 0.2541 - val_accuracy: 0.9262\n",
      "Epoch 77/200\n",
      "100/100 [==============================] - 7s 68ms/step - loss: 0.5427 - accuracy: 0.8275 - val_loss: 0.2240 - val_accuracy: 0.9237\n",
      "Epoch 78/200\n",
      "100/100 [==============================] - 6s 56ms/step - loss: 0.5293 - accuracy: 0.8356 - val_loss: 0.2608 - val_accuracy: 0.9137\n",
      "Epoch 79/200\n",
      "100/100 [==============================] - 7s 67ms/step - loss: 0.5512 - accuracy: 0.8163 - val_loss: 0.2391 - val_accuracy: 0.9200\n",
      "Epoch 80/200\n",
      "100/100 [==============================] - 6s 56ms/step - loss: 0.5236 - accuracy: 0.8322 - val_loss: 0.2422 - val_accuracy: 0.9050\n",
      "Epoch 81/200\n",
      "100/100 [==============================] - 7s 68ms/step - loss: 0.5179 - accuracy: 0.8388 - val_loss: 0.2587 - val_accuracy: 0.9150\n",
      "Epoch 82/200\n",
      "100/100 [==============================] - 6s 56ms/step - loss: 0.5339 - accuracy: 0.8234 - val_loss: 0.3016 - val_accuracy: 0.9025\n",
      "Epoch 83/200\n",
      "100/100 [==============================] - 7s 73ms/step - loss: 0.5271 - accuracy: 0.8325 - val_loss: 0.2497 - val_accuracy: 0.9137\n",
      "Epoch 84/200\n",
      "100/100 [==============================] - 6s 61ms/step - loss: 0.5466 - accuracy: 0.8203 - val_loss: 0.2864 - val_accuracy: 0.9025\n",
      "Epoch 85/200\n",
      "100/100 [==============================] - 6s 58ms/step - loss: 0.5298 - accuracy: 0.8269 - val_loss: 0.2668 - val_accuracy: 0.9038\n",
      "Epoch 86/200\n",
      "100/100 [==============================] - 6s 59ms/step - loss: 0.5520 - accuracy: 0.8288 - val_loss: 0.2438 - val_accuracy: 0.9062\n",
      "Epoch 87/200\n",
      "100/100 [==============================] - 6s 59ms/step - loss: 0.5269 - accuracy: 0.8250 - val_loss: 0.2374 - val_accuracy: 0.9150\n",
      "Epoch 88/200\n",
      "100/100 [==============================] - 7s 68ms/step - loss: 0.5355 - accuracy: 0.8275 - val_loss: 0.2586 - val_accuracy: 0.9187\n",
      "Epoch 89/200\n",
      "100/100 [==============================] - 6s 55ms/step - loss: 0.5234 - accuracy: 0.8344 - val_loss: 0.2382 - val_accuracy: 0.9112\n",
      "Epoch 90/200\n",
      "100/100 [==============================] - 7s 68ms/step - loss: 0.5253 - accuracy: 0.8306 - val_loss: 0.2348 - val_accuracy: 0.9200\n",
      "Epoch 91/200\n",
      "100/100 [==============================] - 6s 56ms/step - loss: 0.5076 - accuracy: 0.8325 - val_loss: 0.2318 - val_accuracy: 0.9237\n",
      "Epoch 92/200\n",
      "100/100 [==============================] - 7s 70ms/step - loss: 0.5178 - accuracy: 0.8284 - val_loss: 0.2896 - val_accuracy: 0.9050\n",
      "Epoch 93/200\n",
      "100/100 [==============================] - 6s 57ms/step - loss: 0.5153 - accuracy: 0.8344 - val_loss: 0.2372 - val_accuracy: 0.9175\n",
      "Epoch 94/200\n",
      "100/100 [==============================] - 7s 69ms/step - loss: 0.5195 - accuracy: 0.8288 - val_loss: 0.1970 - val_accuracy: 0.9325\n",
      "Epoch 95/200\n",
      "100/100 [==============================] - 6s 57ms/step - loss: 0.4931 - accuracy: 0.8350 - val_loss: 0.2247 - val_accuracy: 0.9250\n",
      "Epoch 96/200\n",
      "100/100 [==============================] - 7s 67ms/step - loss: 0.5190 - accuracy: 0.8319 - val_loss: 0.2119 - val_accuracy: 0.9325\n",
      "Epoch 97/200\n",
      "100/100 [==============================] - 6s 57ms/step - loss: 0.5453 - accuracy: 0.8209 - val_loss: 0.1922 - val_accuracy: 0.9337\n",
      "Epoch 98/200\n",
      "100/100 [==============================] - 7s 68ms/step - loss: 0.5294 - accuracy: 0.8266 - val_loss: 0.2308 - val_accuracy: 0.9287\n",
      "Epoch 99/200\n",
      "100/100 [==============================] - 6s 56ms/step - loss: 0.5357 - accuracy: 0.8272 - val_loss: 0.2616 - val_accuracy: 0.9100\n",
      "Epoch 100/200\n",
      "100/100 [==============================] - 7s 69ms/step - loss: 0.5119 - accuracy: 0.8381 - val_loss: 0.2291 - val_accuracy: 0.9225\n",
      "Epoch 101/200\n",
      "100/100 [==============================] - 7s 70ms/step - loss: 0.5183 - accuracy: 0.8300 - val_loss: 0.2357 - val_accuracy: 0.9300\n",
      "Epoch 102/200\n",
      "100/100 [==============================] - 6s 57ms/step - loss: 0.4778 - accuracy: 0.8462 - val_loss: 0.2179 - val_accuracy: 0.9262\n",
      "Epoch 103/200\n",
      "100/100 [==============================] - 7s 67ms/step - loss: 0.5245 - accuracy: 0.8403 - val_loss: 0.2069 - val_accuracy: 0.9312\n",
      "Epoch 104/200\n",
      "100/100 [==============================] - 6s 60ms/step - loss: 0.5145 - accuracy: 0.8322 - val_loss: 0.2103 - val_accuracy: 0.9337\n",
      "Epoch 105/200\n",
      "100/100 [==============================] - 6s 64ms/step - loss: 0.5074 - accuracy: 0.8325 - val_loss: 0.2174 - val_accuracy: 0.9300\n",
      "Epoch 106/200\n",
      "100/100 [==============================] - 6s 59ms/step - loss: 0.5076 - accuracy: 0.8356 - val_loss: 0.1990 - val_accuracy: 0.9312\n",
      "Epoch 107/200\n",
      "100/100 [==============================] - 6s 62ms/step - loss: 0.4800 - accuracy: 0.8475 - val_loss: 0.2282 - val_accuracy: 0.9275\n",
      "Epoch 108/200\n",
      "100/100 [==============================] - 6s 56ms/step - loss: 0.5305 - accuracy: 0.8325 - val_loss: 0.2324 - val_accuracy: 0.9225\n",
      "Epoch 109/200\n",
      "100/100 [==============================] - 7s 65ms/step - loss: 0.5102 - accuracy: 0.8363 - val_loss: 0.2009 - val_accuracy: 0.9312\n",
      "Epoch 110/200\n",
      "100/100 [==============================] - 6s 56ms/step - loss: 0.4891 - accuracy: 0.8375 - val_loss: 0.1750 - val_accuracy: 0.9400\n",
      "Epoch 111/200\n",
      "100/100 [==============================] - 7s 68ms/step - loss: 0.4625 - accuracy: 0.8469 - val_loss: 0.2358 - val_accuracy: 0.9237\n",
      "Epoch 112/200\n",
      "100/100 [==============================] - 6s 58ms/step - loss: 0.5122 - accuracy: 0.8263 - val_loss: 0.2603 - val_accuracy: 0.9112\n",
      "Epoch 113/200\n",
      "100/100 [==============================] - 7s 66ms/step - loss: 0.4882 - accuracy: 0.8416 - val_loss: 0.2126 - val_accuracy: 0.9237\n",
      "Epoch 114/200\n",
      "100/100 [==============================] - 6s 56ms/step - loss: 0.5541 - accuracy: 0.8266 - val_loss: 0.1964 - val_accuracy: 0.9388\n",
      "Epoch 115/200\n",
      "100/100 [==============================] - 6s 59ms/step - loss: 0.4870 - accuracy: 0.8413 - val_loss: 0.2106 - val_accuracy: 0.9312\n",
      "Epoch 116/200\n",
      "100/100 [==============================] - 7s 68ms/step - loss: 0.5162 - accuracy: 0.8328 - val_loss: 0.2198 - val_accuracy: 0.9312\n",
      "Epoch 117/200\n",
      "100/100 [==============================] - 6s 58ms/step - loss: 0.4813 - accuracy: 0.8338 - val_loss: 0.1902 - val_accuracy: 0.9475\n",
      "Epoch 118/200\n",
      "100/100 [==============================] - 6s 57ms/step - loss: 0.4996 - accuracy: 0.8400 - val_loss: 0.2346 - val_accuracy: 0.9250\n",
      "Epoch 119/200\n",
      "100/100 [==============================] - 7s 69ms/step - loss: 0.5266 - accuracy: 0.8359 - val_loss: 0.2077 - val_accuracy: 0.9362\n",
      "Epoch 120/200\n",
      "100/100 [==============================] - 6s 57ms/step - loss: 0.4765 - accuracy: 0.8516 - val_loss: 0.2409 - val_accuracy: 0.9150\n",
      "Epoch 121/200\n",
      "100/100 [==============================] - 7s 67ms/step - loss: 0.4950 - accuracy: 0.8384 - val_loss: 0.2134 - val_accuracy: 0.9362\n",
      "Epoch 122/200\n",
      "100/100 [==============================] - 7s 66ms/step - loss: 0.4808 - accuracy: 0.8372 - val_loss: 0.2186 - val_accuracy: 0.9388\n",
      "Epoch 123/200\n",
      "100/100 [==============================] - 6s 56ms/step - loss: 0.4862 - accuracy: 0.8447 - val_loss: 0.1842 - val_accuracy: 0.9438\n",
      "Epoch 124/200\n",
      "100/100 [==============================] - 7s 70ms/step - loss: 0.5116 - accuracy: 0.8388 - val_loss: 0.1848 - val_accuracy: 0.9425\n",
      "Epoch 125/200\n",
      "100/100 [==============================] - 6s 57ms/step - loss: 0.5129 - accuracy: 0.8428 - val_loss: 0.1899 - val_accuracy: 0.9438\n",
      "Epoch 126/200\n",
      "100/100 [==============================] - 7s 67ms/step - loss: 0.5117 - accuracy: 0.8297 - val_loss: 0.2492 - val_accuracy: 0.9075\n",
      "Epoch 127/200\n",
      "100/100 [==============================] - 6s 57ms/step - loss: 0.4828 - accuracy: 0.8425 - val_loss: 0.1914 - val_accuracy: 0.9337\n",
      "Epoch 128/200\n",
      "100/100 [==============================] - 7s 67ms/step - loss: 0.4896 - accuracy: 0.8381 - val_loss: 0.1890 - val_accuracy: 0.9388\n",
      "Epoch 129/200\n",
      "100/100 [==============================] - 6s 57ms/step - loss: 0.4954 - accuracy: 0.8434 - val_loss: 0.2167 - val_accuracy: 0.9325\n",
      "Epoch 130/200\n",
      "100/100 [==============================] - 7s 68ms/step - loss: 0.4945 - accuracy: 0.8447 - val_loss: 0.2412 - val_accuracy: 0.9250\n",
      "Epoch 131/200\n",
      "100/100 [==============================] - 6s 57ms/step - loss: 0.4849 - accuracy: 0.8428 - val_loss: 0.1976 - val_accuracy: 0.9350\n",
      "Epoch 132/200\n",
      "100/100 [==============================] - 7s 66ms/step - loss: 0.5042 - accuracy: 0.8375 - val_loss: 0.2167 - val_accuracy: 0.9275\n",
      "Epoch 133/200\n",
      "100/100 [==============================] - 6s 58ms/step - loss: 0.4899 - accuracy: 0.8444 - val_loss: 0.2508 - val_accuracy: 0.9125\n",
      "Epoch 134/200\n",
      "100/100 [==============================] - 7s 65ms/step - loss: 0.5185 - accuracy: 0.8294 - val_loss: 0.2140 - val_accuracy: 0.9337\n",
      "Epoch 135/200\n",
      "100/100 [==============================] - 6s 55ms/step - loss: 0.4703 - accuracy: 0.8484 - val_loss: 0.1890 - val_accuracy: 0.9300\n",
      "Epoch 136/200\n",
      "100/100 [==============================] - 6s 63ms/step - loss: 0.4943 - accuracy: 0.8419 - val_loss: 0.1915 - val_accuracy: 0.9413\n",
      "Epoch 137/200\n",
      "100/100 [==============================] - 6s 59ms/step - loss: 0.5092 - accuracy: 0.8294 - val_loss: 0.1882 - val_accuracy: 0.9375\n",
      "Epoch 138/200\n",
      "100/100 [==============================] - 7s 69ms/step - loss: 0.4564 - accuracy: 0.8572 - val_loss: 0.2043 - val_accuracy: 0.9287\n",
      "Epoch 139/200\n",
      "100/100 [==============================] - 6s 55ms/step - loss: 0.4780 - accuracy: 0.8419 - val_loss: 0.2185 - val_accuracy: 0.9200\n",
      "Epoch 140/200\n",
      "100/100 [==============================] - 6s 58ms/step - loss: 0.4957 - accuracy: 0.8397 - val_loss: 0.1878 - val_accuracy: 0.9362\n",
      "Epoch 141/200\n",
      "100/100 [==============================] - 7s 69ms/step - loss: 0.4577 - accuracy: 0.8516 - val_loss: 0.2064 - val_accuracy: 0.9250\n",
      "Epoch 142/200\n",
      "100/100 [==============================] - 6s 57ms/step - loss: 0.4811 - accuracy: 0.8478 - val_loss: 0.2157 - val_accuracy: 0.9362\n",
      "Epoch 143/200\n",
      "100/100 [==============================] - 6s 59ms/step - loss: 0.4549 - accuracy: 0.8562 - val_loss: 0.2089 - val_accuracy: 0.9362\n",
      "Epoch 144/200\n",
      "100/100 [==============================] - 7s 69ms/step - loss: 0.4996 - accuracy: 0.8372 - val_loss: 0.2160 - val_accuracy: 0.9287\n",
      "Epoch 145/200\n",
      "100/100 [==============================] - 6s 58ms/step - loss: 0.4656 - accuracy: 0.8422 - val_loss: 0.1835 - val_accuracy: 0.9413\n",
      "Epoch 146/200\n",
      "100/100 [==============================] - 7s 70ms/step - loss: 0.4787 - accuracy: 0.8475 - val_loss: 0.2090 - val_accuracy: 0.9362\n",
      "Epoch 147/200\n",
      "100/100 [==============================] - 6s 56ms/step - loss: 0.4708 - accuracy: 0.8487 - val_loss: 0.2136 - val_accuracy: 0.9287\n",
      "Epoch 148/200\n",
      "100/100 [==============================] - 7s 68ms/step - loss: 0.4511 - accuracy: 0.8484 - val_loss: 0.2234 - val_accuracy: 0.9237\n",
      "Epoch 149/200\n",
      "100/100 [==============================] - 6s 59ms/step - loss: 0.4789 - accuracy: 0.8431 - val_loss: 0.1897 - val_accuracy: 0.9337\n",
      "Epoch 150/200\n",
      "100/100 [==============================] - 7s 70ms/step - loss: 0.4699 - accuracy: 0.8491 - val_loss: 0.1757 - val_accuracy: 0.9438\n",
      "Epoch 151/200\n",
      "100/100 [==============================] - 6s 58ms/step - loss: 0.4630 - accuracy: 0.8522 - val_loss: 0.2173 - val_accuracy: 0.9312\n",
      "Epoch 152/200\n",
      "100/100 [==============================] - 6s 58ms/step - loss: 0.4693 - accuracy: 0.8434 - val_loss: 0.2614 - val_accuracy: 0.9112\n",
      "Epoch 153/200\n",
      "100/100 [==============================] - 7s 70ms/step - loss: 0.4810 - accuracy: 0.8434 - val_loss: 0.2120 - val_accuracy: 0.9287\n",
      "Epoch 154/200\n",
      "100/100 [==============================] - 6s 58ms/step - loss: 0.4919 - accuracy: 0.8378 - val_loss: 0.1976 - val_accuracy: 0.9362\n",
      "Epoch 155/200\n",
      "100/100 [==============================] - 7s 69ms/step - loss: 0.4841 - accuracy: 0.8494 - val_loss: 0.2131 - val_accuracy: 0.9300\n",
      "Epoch 156/200\n",
      "100/100 [==============================] - 6s 58ms/step - loss: 0.5066 - accuracy: 0.8475 - val_loss: 0.2355 - val_accuracy: 0.9262\n",
      "Epoch 157/200\n",
      "100/100 [==============================] - 7s 70ms/step - loss: 0.4846 - accuracy: 0.8512 - val_loss: 0.2046 - val_accuracy: 0.9375\n",
      "Epoch 158/200\n",
      "100/100 [==============================] - 6s 58ms/step - loss: 0.4485 - accuracy: 0.8534 - val_loss: 0.2150 - val_accuracy: 0.9325\n",
      "Epoch 159/200\n",
      "100/100 [==============================] - 6s 59ms/step - loss: 0.4644 - accuracy: 0.8494 - val_loss: 0.2631 - val_accuracy: 0.9025\n",
      "Epoch 160/200\n",
      "100/100 [==============================] - 7s 69ms/step - loss: 0.4716 - accuracy: 0.8475 - val_loss: 0.1930 - val_accuracy: 0.9375\n",
      "Epoch 161/200\n",
      "100/100 [==============================] - 6s 58ms/step - loss: 0.4803 - accuracy: 0.8547 - val_loss: 0.2105 - val_accuracy: 0.9400\n",
      "Epoch 162/200\n",
      "100/100 [==============================] - 7s 69ms/step - loss: 0.4688 - accuracy: 0.8487 - val_loss: 0.2279 - val_accuracy: 0.9275\n",
      "Epoch 163/200\n",
      "100/100 [==============================] - 6s 59ms/step - loss: 0.4819 - accuracy: 0.8441 - val_loss: 0.2036 - val_accuracy: 0.9275\n",
      "Epoch 164/200\n",
      "100/100 [==============================] - 7s 69ms/step - loss: 0.4550 - accuracy: 0.8522 - val_loss: 0.1902 - val_accuracy: 0.9312\n",
      "Epoch 165/200\n",
      "100/100 [==============================] - 6s 58ms/step - loss: 0.4662 - accuracy: 0.8481 - val_loss: 0.1630 - val_accuracy: 0.9438\n",
      "Epoch 166/200\n",
      "100/100 [==============================] - 6s 58ms/step - loss: 0.4999 - accuracy: 0.8409 - val_loss: 0.1856 - val_accuracy: 0.9425\n",
      "Epoch 167/200\n",
      "100/100 [==============================] - 7s 68ms/step - loss: 0.4748 - accuracy: 0.8431 - val_loss: 0.2046 - val_accuracy: 0.9200\n",
      "Epoch 168/200\n",
      "100/100 [==============================] - 6s 57ms/step - loss: 0.4596 - accuracy: 0.8491 - val_loss: 0.1992 - val_accuracy: 0.9350\n",
      "Epoch 169/200\n",
      "100/100 [==============================] - 7s 67ms/step - loss: 0.4691 - accuracy: 0.8478 - val_loss: 0.1873 - val_accuracy: 0.9425\n",
      "Epoch 170/200\n",
      "100/100 [==============================] - 6s 57ms/step - loss: 0.4238 - accuracy: 0.8625 - val_loss: 0.1696 - val_accuracy: 0.9450\n",
      "Epoch 171/200\n",
      "100/100 [==============================] - 7s 68ms/step - loss: 0.4523 - accuracy: 0.8566 - val_loss: 0.2002 - val_accuracy: 0.9262\n",
      "Epoch 172/200\n",
      "100/100 [==============================] - 6s 57ms/step - loss: 0.4721 - accuracy: 0.8428 - val_loss: 0.2005 - val_accuracy: 0.9388\n",
      "Epoch 173/200\n",
      "100/100 [==============================] - 7s 67ms/step - loss: 0.4457 - accuracy: 0.8553 - val_loss: 0.1806 - val_accuracy: 0.9400\n",
      "Epoch 174/200\n",
      "100/100 [==============================] - 6s 57ms/step - loss: 0.4431 - accuracy: 0.8516 - val_loss: 0.2112 - val_accuracy: 0.9325\n",
      "Epoch 175/200\n",
      "100/100 [==============================] - 7s 67ms/step - loss: 0.4284 - accuracy: 0.8578 - val_loss: 0.1902 - val_accuracy: 0.9400\n",
      "Epoch 176/200\n",
      "100/100 [==============================] - 6s 59ms/step - loss: 0.4766 - accuracy: 0.8459 - val_loss: 0.1795 - val_accuracy: 0.9450\n",
      "Epoch 177/200\n",
      "100/100 [==============================] - 7s 67ms/step - loss: 0.4834 - accuracy: 0.8431 - val_loss: 0.1663 - val_accuracy: 0.9538\n",
      "Epoch 178/200\n",
      "100/100 [==============================] - 6s 58ms/step - loss: 0.4700 - accuracy: 0.8553 - val_loss: 0.1746 - val_accuracy: 0.9388\n",
      "Epoch 179/200\n",
      "100/100 [==============================] - 7s 68ms/step - loss: 0.4740 - accuracy: 0.8491 - val_loss: 0.1953 - val_accuracy: 0.9362\n",
      "Epoch 180/200\n",
      "100/100 [==============================] - 10s 96ms/step - loss: 0.4639 - accuracy: 0.8547 - val_loss: 0.1760 - val_accuracy: 0.9362\n",
      "Epoch 181/200\n",
      "100/100 [==============================] - 6s 58ms/step - loss: 0.4411 - accuracy: 0.8672 - val_loss: 0.1588 - val_accuracy: 0.9500\n",
      "Epoch 182/200\n",
      "100/100 [==============================] - 7s 69ms/step - loss: 0.4639 - accuracy: 0.8509 - val_loss: 0.1875 - val_accuracy: 0.9488\n",
      "Epoch 183/200\n",
      "100/100 [==============================] - 6s 59ms/step - loss: 0.4756 - accuracy: 0.8413 - val_loss: 0.1640 - val_accuracy: 0.9475\n",
      "Epoch 184/200\n",
      "100/100 [==============================] - 7s 68ms/step - loss: 0.4447 - accuracy: 0.8559 - val_loss: 0.2017 - val_accuracy: 0.9337\n",
      "Epoch 185/200\n",
      "100/100 [==============================] - 6s 60ms/step - loss: 0.4693 - accuracy: 0.8500 - val_loss: 0.1967 - val_accuracy: 0.9337\n",
      "Epoch 186/200\n",
      "100/100 [==============================] - 6s 58ms/step - loss: 0.4586 - accuracy: 0.8550 - val_loss: 0.1803 - val_accuracy: 0.9475\n",
      "Epoch 187/200\n",
      "100/100 [==============================] - 6s 58ms/step - loss: 0.4902 - accuracy: 0.8438 - val_loss: 0.1642 - val_accuracy: 0.9438\n",
      "Epoch 188/200\n",
      "100/100 [==============================] - 7s 69ms/step - loss: 0.4567 - accuracy: 0.8572 - val_loss: 0.1749 - val_accuracy: 0.9413\n",
      "Epoch 189/200\n",
      "100/100 [==============================] - 6s 60ms/step - loss: 0.4541 - accuracy: 0.8587 - val_loss: 0.1562 - val_accuracy: 0.9513\n",
      "Epoch 190/200\n",
      "100/100 [==============================] - 7s 69ms/step - loss: 0.4254 - accuracy: 0.8591 - val_loss: 0.2094 - val_accuracy: 0.9300\n",
      "Epoch 191/200\n",
      "100/100 [==============================] - 6s 57ms/step - loss: 0.4758 - accuracy: 0.8459 - val_loss: 0.1648 - val_accuracy: 0.9425\n",
      "Epoch 192/200\n",
      "100/100 [==============================] - 7s 69ms/step - loss: 0.4446 - accuracy: 0.8572 - val_loss: 0.2026 - val_accuracy: 0.9300\n",
      "Epoch 193/200\n",
      "100/100 [==============================] - 6s 63ms/step - loss: 0.4649 - accuracy: 0.8503 - val_loss: 0.1863 - val_accuracy: 0.9413\n",
      "Epoch 194/200\n",
      "100/100 [==============================] - 6s 61ms/step - loss: 0.4482 - accuracy: 0.8584 - val_loss: 0.1621 - val_accuracy: 0.9513\n",
      "Epoch 195/200\n",
      "100/100 [==============================] - 6s 64ms/step - loss: 0.4422 - accuracy: 0.8581 - val_loss: 0.1817 - val_accuracy: 0.9438\n",
      "Epoch 196/200\n",
      "100/100 [==============================] - 6s 58ms/step - loss: 0.4732 - accuracy: 0.8447 - val_loss: 0.1679 - val_accuracy: 0.9538\n",
      "Epoch 197/200\n",
      "100/100 [==============================] - 7s 69ms/step - loss: 0.4579 - accuracy: 0.8512 - val_loss: 0.1467 - val_accuracy: 0.9513\n",
      "Epoch 198/200\n",
      "100/100 [==============================] - 6s 57ms/step - loss: 0.4747 - accuracy: 0.8450 - val_loss: 0.1905 - val_accuracy: 0.9325\n",
      "Epoch 199/200\n",
      "100/100 [==============================] - 7s 67ms/step - loss: 0.4423 - accuracy: 0.8575 - val_loss: 0.1871 - val_accuracy: 0.9312\n",
      "Epoch 200/200\n",
      "100/100 [==============================] - 6s 57ms/step - loss: 0.4792 - accuracy: 0.8491 - val_loss: 0.1850 - val_accuracy: 0.9350\n"
     ]
    }
   ],
   "source": [
    "model.compile(optimizer='adam',loss='categorical_crossentropy',metrics=['accuracy'])\n",
    "his=model.fit(datagen.flow(trainx,trainy,batch_size=32),validation_data=(testx,testy),epochs=200)"
   ]
  },
  {
   "cell_type": "code",
   "execution_count": 29,
   "metadata": {
    "colab": {
     "base_uri": "https://localhost:8080/"
    },
    "id": "vsKc_MUbeSF6",
    "outputId": "affeee41-47a7-4b0b-80c6-d8958b32c56e"
   },
   "outputs": [
    {
     "name": "stdout",
     "output_type": "stream",
     "text": [
      "25/25 [==============================] - 4s 23ms/step\n",
      "              precision    recall  f1-score   support\n",
      "\n",
      "           0       0.93      0.97      0.95        71\n",
      "           1       0.95      0.88      0.91        65\n",
      "           2       0.95      0.98      0.96        91\n",
      "           3       0.95      0.90      0.92        89\n",
      "           4       0.96      0.92      0.94        84\n",
      "           5       0.98      1.00      0.99        87\n",
      "           6       0.99      0.96      0.97        73\n",
      "           7       0.90      0.97      0.93        79\n",
      "           8       0.86      0.90      0.88        83\n",
      "           9       0.89      0.86      0.88        78\n",
      "\n",
      "    accuracy                           0.94       800\n",
      "   macro avg       0.94      0.93      0.93       800\n",
      "weighted avg       0.94      0.94      0.93       800\n",
      "\n"
     ]
    }
   ],
   "source": [
    "y_pred=model.predict(testx)\n",
    "pred=np.argmax(y_pred,axis=1)\n",
    "ground = np.argmax(testy,axis=1)\n",
    "print(classification_report(ground,pred))"
   ]
  },
  {
   "cell_type": "code",
   "execution_count": 33,
   "metadata": {
    "colab": {
     "base_uri": "https://localhost:8080/",
     "height": 491
    },
    "id": "C9SNj0XCiFBW",
    "outputId": "1b7bfdb1-813b-4c4b-e07e-5efa84431786"
   },
   "outputs": [
    {
     "data": {
      "image/png": "[encoded data removed]",
      "text/plain": [
       "<Figure size 1800x600 with 1 Axes>"
      ]
     },
     "metadata": {},
     "output_type": "display_data"
    }
   ],
   "source": [
    "import matplotlib.pyplot as plt\n",
    "\n",
    "get_acc = his.history['accuracy']\n",
    "value_acc = his.history['val_accuracy']\n",
    "get_loss = his.history['loss']\n",
    "validation_loss = his.history['val_loss']\n",
    "\n",
    "epochs = range(len(get_acc))\n",
    "\n",
    "# Set the size of the figure\n",
    "plt.figure(figsize=(18, 6))  # Adjust width and height as needed\n",
    "\n",
    "plt.plot(epochs, get_acc, 'r', label='Accuracy of Training data')\n",
    "plt.plot(epochs, value_acc, 'b', label='Accuracy of Validation data')\n",
    "plt.title('Training vs validation accuracy')\n",
    "plt.legend(loc=0)\n",
    "plt.xlabel('Epochs')\n",
    "plt.ylabel('Accuracy')\n",
    "\n",
    "plt.show()"
   ]
  },
  {
   "cell_type": "code",
   "execution_count": 38,
   "metadata": {
    "colab": {
     "base_uri": "https://localhost:8080/",
     "height": 470
    },
    "id": "X7yTPuUOkuXl",
    "outputId": "af369998-5d01-412c-baba-5fd6700d03ca"
   },
   "outputs": [
    {
     "data": {
      "image/png": "[encoded data removed]",
      "text/plain": [
       "<Figure size 640x480 with 1 Axes>"
      ]
     },
     "metadata": {},
     "output_type": "display_data"
    },
    {
     "data": {
      "text/plain": [
       "<Figure size 640x480 with 0 Axes>"
      ]
     },
     "metadata": {},
     "output_type": "display_data"
    }
   ],
   "source": [
    "epochs = range(len(get_loss))\n",
    "plt.plot(epochs, get_loss, 'r', label='Loss of Training data')\n",
    "plt.plot(epochs, validation_loss, 'b', label='Loss of Validation data')\n",
    "plt.title('Training vs validation loss')\n",
    "plt.legend(loc=0)\n",
    "plt.figure()\n",
    "plt.show()"
   ]
  },
  {
   "cell_type": "code",
   "execution_count": 39,
   "metadata": {
    "colab": {
     "base_uri": "https://localhost:8080/"
    },
    "id": "RKBy9hgOk4PD",
    "outputId": "a1184c34-11e2-4b3e-9463-18b3432389d9"
   },
   "outputs": [
    {
     "name": "stdout",
     "output_type": "stream",
     "text": [
      "25/25 [==============================] - 1s 45ms/step - loss: 0.1850 - accuracy: 0.9350\n",
      "Test loss: 0.18504250049591064\n",
      "Test accuracy: 0.9350000023841858\n"
     ]
    }
   ],
   "source": [
    "# Assuming you have 'X_test' and 'y_test' data\n",
    "loss, accuracy = model.evaluate(testx, testy)\n",
    "print(\"Test loss:\", loss)\n",
    "print(\"Test accuracy:\", accuracy)"
   ]
  },
  {
   "cell_type": "markdown",
   "metadata": {
    "id": "Lw50ZGOtk62j"
   },
   "source": [
    "Making the model predict Stuffs"
   ]
  },
  {
   "cell_type": "code",
   "execution_count": 45,
   "metadata": {
    "colab": {
     "base_uri": "https://localhost:8080/",
     "height": 77
    },
    "id": "2z_S0Krvk-jq",
    "outputId": "40d8eeb2-5886-4238-f776-d9ed956b7ada"
   },
   "outputs": [
    {
     "data": {
      "image/png": "[encoded data removed]",
      "text/plain": [
       "<PIL.Image.Image image mode=RGB size=60x60>"
      ]
     },
     "execution_count": 45,
     "metadata": {},
     "output_type": "execute_result"
    }
   ],
   "source": [
    "load_img(\"/content/HandGesture/images/thumbs/1032.jpg\",target_size=(60,60))"
   ]
  },
  {
   "cell_type": "code",
   "execution_count": 54,
   "metadata": {
    "colab": {
     "base_uri": "https://localhost:8080/"
    },
    "id": "qbIsG72tlNXP",
    "outputId": "a8e264dc-aa47-4a7e-fcef-d76b22bc2676"
   },
   "outputs": [
    {
     "name": "stdout",
     "output_type": "stream",
     "text": [
      "1/1 [==============================] - 0s 39ms/step\n",
      "Predicted class: thumbs\n"
     ]
    }
   ],
   "source": [
    "# Load the image and preprocess it\n",
    "image = load_img(\"/content/HandGesture/images/thumbs/1032.jpg\", target_size=(60, 60))\n",
    "image = img_to_array(image)\n",
    "image = image / 255.0\n",
    "prediction_image = np.expand_dims(image, axis=0)\n",
    "\n",
    "# Make the prediction\n",
    "prediction = model.predict(prediction_image)\n",
    "predicted_class_index = np.argmax(prediction)\n",
    "\n",
    "# List of class names corresponding to the order of classes in the model\n",
    "class_names = ['up', 'scissor', 'paper', 'thumbs', 'peace', 'okay', 'rock', 'call_me', 'rock_on', 'fingers_crossed']\n",
    "\n",
    "# Get the predicted class name\n",
    "predicted_class_name = class_names[predicted_class_index]\n",
    "print(\"Predicted class:\", predicted_class_name)"
   ]
  },
  {
   "cell_type": "code",
   "execution_count": 49,
   "metadata": {
    "colab": {
     "base_uri": "https://localhost:8080/"
    },
    "id": "kJKS64E4nAgq",
    "outputId": "7496a612-819a-4e8b-ab91-12120d5080fe"
   },
   "outputs": [
    {
     "name": "stdout",
     "output_type": "stream",
     "text": [
      "(1243, 60, 60, 3)\n",
      "39/39 [==============================] - 2s 61ms/step\n",
      "(1243, 10)\n"
     ]
    }
   ],
   "source": [
    "print(test.shape)\n",
    "prediction2=model.predict(test)\n",
    "print(prediction2.shape)\n",
    "\n",
    "PRED=[]\n",
    "for item in prediction2:\n",
    "    value2=np.argmax(item)\n",
    "    PRED+=[value2]"
   ]
  },
  {
   "cell_type": "code",
   "execution_count": 50,
   "metadata": {
    "colab": {
     "base_uri": "https://localhost:8080/"
    },
    "id": "akm9sAQ0nGGM",
    "outputId": "359bc952-6bd2-45f1-be5d-3deab223ad1f"
   },
   "outputs": [
    {
     "name": "stdout",
     "output_type": "stream",
     "text": [
      "0.9259855189058729\n"
     ]
    }
   ],
   "source": [
    "ANS=tlabels0\n",
    "accuracy=accuracy_score(ANS,PRED)\n",
    "print(accuracy)"
   ]
  },
  {
   "cell_type": "markdown",
   "metadata": {
    "id": "T7B6kaT_nIqK"
   },
   "source": [
    "<h3> ** Model Save and Test ** </h3>"
   ]
  },
  {
   "cell_type": "code",
   "execution_count": 51,
   "metadata": {
    "id": "mZqkzcdznKke"
   },
   "outputs": [],
   "source": [
    "model.save('handGesture.hdf5')\n",
    "model2=keras.models.load_model('handGesture.hdf5')"
   ]
  },
  {
   "cell_type": "code",
   "execution_count": 52,
   "metadata": {
    "colab": {
     "base_uri": "https://localhost:8080/"
    },
    "id": "SSVZ77jJnSq7",
    "outputId": "7519d3fb-8690-408e-e092-937095dca610"
   },
   "outputs": [
    {
     "name": "stdout",
     "output_type": "stream",
     "text": [
      "39/39 [==============================] - 4s 22ms/step\n"
     ]
    }
   ],
   "source": [
    "prediction3=model2.predict(test)\n",
    "PRED3=[]\n",
    "for item in prediction3:\n",
    "    value3=np.argmax(item)\n",
    "    PRED3+=[value3]"
   ]
  },
  {
   "cell_type": "code",
   "execution_count": 53,
   "metadata": {
    "colab": {
     "base_uri": "https://localhost:8080/"
    },
    "id": "SSMf2hwMnVJa",
    "outputId": "a19817e3-3129-41a0-bac3-75fe905c8744"
   },
   "outputs": [
    {
     "name": "stdout",
     "output_type": "stream",
     "text": [
      "0.9259855189058729\n"
     ]
    }
   ],
   "source": [
    "accuracy3=accuracy_score(ANS,PRED3)\n",
    "print(accuracy3)"
   ]
  },
  {
   "cell_type": "markdown",
   "metadata": {
    "id": "NLTuVnstoNYN"
   },
   "source": [
    "Converting the above model into a function so as to reduce my workload and I can call this as Milton say want without writing the entire code several times"
   ]
  },
  {
   "cell_type": "code",
   "execution_count": 56,
   "metadata": {
    "id": "wWzS3F0doLxY"
   },
   "outputs": [],
   "source": [
    "def predict_gesture_class(image_path, model):\n",
    "    # List of class names corresponding to the order of classes in the model\n",
    "    class_names = ['up', 'scissor', 'paper', 'thumbs', 'peace', 'okay', 'rock', 'call_me', 'rock_on', 'fingers_crossed']\n",
    "    image = load_img(image_path, target_size=(60, 60))\n",
    "    image = img_to_array(image)\n",
    "    image = image / 255.0\n",
    "    prediction_image = np.expand_dims(image, axis=0)\n",
    "\n",
    "    # Make the prediction\n",
    "    prediction = model.predict(prediction_image)\n",
    "    predicted_class_index = np.argmax(prediction)\n",
    "\n",
    "    # Get the predicted class name\n",
    "    predicted_class_name = class_names[predicted_class_index]\n",
    "    return predicted_class_name"
   ]
  },
  {
   "cell_type": "code",
   "execution_count": 58,
   "metadata": {
    "colab": {
     "base_uri": "https://localhost:8080/"
    },
    "id": "PcKsEm3_p9S6",
    "outputId": "96c0f83d-a543-4fbf-8dfd-85cb8fcfb83d"
   },
   "outputs": [
    {
     "name": "stdout",
     "output_type": "stream",
     "text": [
      "1/1 [==============================] - 0s 113ms/step\n",
      "Predicted class: paper\n"
     ]
    }
   ],
   "source": [
    "# Path to the image you want to predict\n",
    "image_path = \"/content/HandGesture/images/paper/1082.jpg\"\n",
    "\n",
    "# Call the function to get the predicted class name\n",
    "predicted_class = predict_gesture_class(image_path, model)\n",
    "print(\"Predicted class:\", predicted_class)"
   ]
  },
  {
   "cell_type": "code",
   "execution_count": 60,
   "metadata": {
    "colab": {
     "base_uri": "https://localhost:8080/"
    },
    "id": "HGM28_O_qAx4",
    "outputId": "4c7b6da6-62f7-4546-b34c-91e517216a07"
   },
   "outputs": [
    {
     "name": "stdout",
     "output_type": "stream",
     "text": [
      "1/1 [==============================] - 0s 66ms/step\n",
      "Predicted class: thumbs\n"
     ]
    }
   ],
   "source": [
    "# Path to the image you want to predict\n",
    "image_path = \"/content/Thumb.jpg\"\n",
    "\n",
    "# Call the function to get the predicted class name\n",
    "predicted_class = predict_gesture_class(image_path, model)\n",
    "print(\"Predicted class:\", predicted_class)"
   ]
  },
  {
   "cell_type": "code",
   "execution_count": 61,
   "metadata": {
    "colab": {
     "base_uri": "https://localhost:8080/"
    },
    "id": "8VOztDZeqKBZ",
    "outputId": "d8bddcdc-8090-4432-d8aa-95fd705df146"
   },
   "outputs": [
    {
     "name": "stdout",
     "output_type": "stream",
     "text": [
      "1/1 [==============================] - 0s 63ms/step\n",
      "Predicted class: paper\n"
     ]
    }
   ],
   "source": [
    "# Path to the image you want to predict\n",
    "image_path = \"/content/Paper.jpeg\"\n",
    "\n",
    "# Call the function to get the predicted class name\n",
    "predicted_class = predict_gesture_class(image_path, model)\n",
    "print(\"Predicted class:\", predicted_class)"
   ]
  },
  {
   "cell_type": "code",
   "execution_count": 67,
   "metadata": {
    "colab": {
     "base_uri": "https://localhost:8080/"
    },
    "id": "sfs8E46otgNW",
    "outputId": "9452987d-20a8-4568-a3e5-45f8baf18240"
   },
   "outputs": [
    {
     "name": "stdout",
     "output_type": "stream",
     "text": [
      "1/1 [==============================] - 0s 194ms/step\n",
      "Predicted class: okay\n"
     ]
    }
   ],
   "source": [
    "# Path to the image you want to predict\n",
    "image_path = \"/content/ok.jpg\"\n",
    "\n",
    "# Call the function to get the predicted class name\n",
    "predicted_class = predict_gesture_class(image_path, model)\n",
    "print(\"Predicted class:\", predicted_class)"
   ]
  },
  {
   "cell_type": "code",
   "execution_count": 69,
   "metadata": {
    "colab": {
     "base_uri": "https://localhost:8080/"
    },
    "id": "b30qWEXsu1Uj",
    "outputId": "605a9211-f033-46e5-e9cd-decf5da4baee"
   },
   "outputs": [
    {
     "name": "stdout",
     "output_type": "stream",
     "text": [
      "1/1 [==============================] - 0s 43ms/step\n",
      "Predicted class: fingers_crossed\n"
     ]
    }
   ],
   "source": [
    "# Path to the image you want to predict\n",
    "image_path = \"/content/up_phto.jpg\"\n",
    "\n",
    "# Call the function to get the predicted class name\n",
    "predicted_class = predict_gesture_class(image_path, model)\n",
    "print(\"Predicted class:\", predicted_class)"
   ]
  },
  {
   "cell_type": "code",
   "execution_count": 70,
   "metadata": {
    "colab": {
     "base_uri": "https://localhost:8080/"
    },
    "id": "r74TKsgOvGFt",
    "outputId": "c56ab2f1-b533-4468-acdf-8a11f73cc1a6"
   },
   "outputs": [
    {
     "name": "stdout",
     "output_type": "stream",
     "text": [
      "1/1 [==============================] - 0s 105ms/step\n",
      "Predicted class: up\n"
     ]
    }
   ],
   "source": [
    "# Path to the image you want to predict\n",
    "image_path = \"/content/up_as_in_dataset.jpg\"\n",
    "\n",
    "# Call the function to get the predicted class name\n",
    "predicted_class = predict_gesture_class(image_path, model)\n",
    "print(\"Predicted class:\", predicted_class)"
   ]
  }
 ],
 "metadata": {
  "accelerator": "GPU",
  "colab": {
   "gpuType": "T4",
   "provenance": []
  },
  "kernelspec": {
   "display_name": "Python 3 (ipykernel)",
   "language": "python",
   "name": "python3"
  },
  "language_info": {
   "codemirror_mode": {
    "name": "ipython",
    "version": 3
   },
   "file_extension": ".py",
   "mimetype": "text/x-python",
   "name": "python",
   "nbconvert_exporter": "python",
   "pygments_lexer": "ipython3",
   "version": "3.9.5"
  }
 },
 "nbformat": 4,
 "nbformat_minor": 1
}
